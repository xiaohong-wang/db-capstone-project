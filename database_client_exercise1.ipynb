{
 "cells": [
  {
   "cell_type": "code",
   "execution_count": 1,
   "metadata": {},
   "outputs": [
    {
     "name": "stdout",
     "output_type": "stream",
     "text": [
      "Requirement already satisfied: mysql-connector-python in /Users/xiaohongwang/opt/anaconda3/lib/python3.8/site-packages (8.0.31)\n",
      "Requirement already satisfied: protobuf<=3.20.1,>=3.11.0 in /Users/xiaohongwang/opt/anaconda3/lib/python3.8/site-packages (from mysql-connector-python) (3.20.1)\n",
      "\n",
      "\u001b[1m[\u001b[0m\u001b[34;49mnotice\u001b[0m\u001b[1;39;49m]\u001b[0m\u001b[39;49m A new release of pip available: \u001b[0m\u001b[31;49m22.3.1\u001b[0m\u001b[39;49m -> \u001b[0m\u001b[32;49m23.0\u001b[0m\n",
      "\u001b[1m[\u001b[0m\u001b[34;49mnotice\u001b[0m\u001b[1;39;49m]\u001b[0m\u001b[39;49m To update, run: \u001b[0m\u001b[32;49mpip install --upgrade pip\u001b[0m\n",
      "Connected to th MySQL server\n",
      "Created a cursor object.\n"
     ]
    }
   ],
   "source": [
    "!pip install mysql-connector-python\n",
    "\n",
    "import mysql.connector as connector\n",
    "try:\n",
    "    connection = connector.connect(user = 'root', password = \"\",db='LittleLemonDB')\n",
    "    print(\"Connected to th MySQL server\")\n",
    "except:\n",
    "    print(\"Failed to connect to the server\")\n",
    "\n",
    "\n",
    "cursor = connection.cursor()\n",
    "print(\"Created a cursor object.\")\n",
    "\n",
    "\n"
   ]
  },
  {
   "cell_type": "code",
   "execution_count": 2,
   "metadata": {},
   "outputs": [
    {
     "name": "stdout",
     "output_type": "stream",
     "text": [
      "Showing all the tables in LittleLemonDB:\n",
      "[('Bookings',), ('Customers',), ('DeliveryStatus',), ('Employees',), ('MenuItems',), ('Menus',), ('Orders',), ('ordersview',)]\n"
     ]
    }
   ],
   "source": [
    "# show all tables in Database LittleLemonDB\n",
    "show_tables_query = \"\"\"Show Tables;\"\"\"\n",
    "print(\"Showing all the tables in LittleLemonDB:\")\n",
    "cursor.execute(show_tables_query)\n",
    "results = cursor.fetchall()\n",
    "print(results)\n",
    "\n"
   ]
  },
  {
   "cell_type": "code",
   "execution_count": 3,
   "metadata": {},
   "outputs": [
    {
     "name": "stdout",
     "output_type": "stream",
     "text": [
      "Extracing information for every customer who placed orders > 60$\n",
      "('FullName', 'ContactNumber', 'BillAmount')\n"
     ]
    }
   ],
   "source": [
    "# Query with table JOIN\n",
    "join_query = \"\"\"SELECT Customers.FullName, Customers.ContactNumber,Orders.Cost as BillAmount \n",
    "                FROM Customers INNER JOIN Orders on Customers.CustomerID = Orders.CustomerID\n",
    "                WHERE Orders.Cost > 60;\"\"\"\n",
    "cursor.execute(join_query)\n",
    "print(\"Extracing information for every customer who placed orders > 60$\")\n",
    "print(cursor.column_names)\n",
    "results = cursor.fetchall()\n",
    "for res in results:\n",
    "    print(res)"
   ]
  }
 ],
 "metadata": {
  "kernelspec": {
   "display_name": "Python 3",
   "language": "python",
   "name": "python3"
  },
  "language_info": {
   "codemirror_mode": {
    "name": "ipython",
    "version": 3
   },
   "file_extension": ".py",
   "mimetype": "text/x-python",
   "name": "python",
   "nbconvert_exporter": "python",
   "pygments_lexer": "ipython3",
   "version": "3.10.8"
  },
  "orig_nbformat": 4,
  "vscode": {
   "interpreter": {
    "hash": "aee8b7b246df8f9039afb4144a1f6fd8d2ca17a180786b69acc140d282b71a49"
   }
  }
 },
 "nbformat": 4,
 "nbformat_minor": 2
}
